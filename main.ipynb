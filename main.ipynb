{
 "cells": [
  {
   "cell_type": "markdown",
   "metadata": {},
   "source": [
    "Consider a triangular tile with two nodes positioned on each side.\n",
    "Each node is connected to another node by a single path.\n",
    "Each tile therefore has three paths.\n",
    "How many ways are there of connecting these nodes?\n",
    "Consider that the tiles can be rotated.\n",
    "A rotated tile does *not* represent a new tile.\n",
    "\n",
    "If we arrange the triangle with the base horizontal, then examine the top left node.\n",
    "There are 5 other points to which this node could be connected.\n",
    "Once that choice is made, consider the next free node clockwise around the triangle.\n",
    "This has 3 remaining points to which it could be connected.\n",
    "This leaves just two points to be connected, so the last path has no choices to be made.\n",
    "This suggests there are $5\\times3 = 15$ possible tiles.\n",
    "However, there are several duplicates, and inspection reveals only 7 unique tiles.\n",
    "\n",
    "For the representation of a tile, let us consider the nodes around the tile in clockwise order.\n",
    "The path from the \"first\" node can be represented as the number of steps clockwise around the perimeter to reach the node at the other end.\n",
    "This value can be recorded as a number from 1 to 5.\n",
    "Each node around the triangle can be recorded similarly.\n",
    "This does mean each path is recorded twice (once from each end), so there is some redundancy in this representation.\n",
    "\n",
    "Let's create some code to draw these tiles."
   ]
  },
  {
   "cell_type": "code",
   "execution_count": 1,
   "metadata": {},
   "outputs": [
    {
     "data": {
      "application/vnd.jupyter.widget-view+json": {
       "model_id": "47683504896845e2b489ca4381dd87ed",
       "version_major": 2,
       "version_minor": 0
      },
      "text/plain": [
       "Canvas(height=150, width=1050)"
      ]
     },
     "execution_count": 1,
     "metadata": {},
     "output_type": "execute_result"
    }
   ],
   "source": [
    "from ipycanvas import Canvas, Path2D\n",
    "from math import sin\n",
    "from math import cos\n",
    "from math import pi\n",
    "from math import ceil\n",
    "from random import randint\n",
    "\n",
    "def get_polygon_vertices(N, x0, y0, radius):\n",
    "    vertices = []\n",
    "    ext_angle = 2 * pi / N\n",
    "    \n",
    "    # calculate the vertices of the polygon\n",
    "    # to get the bottom flat we start pointing downwards, and rotate half an angle\n",
    "    angle = pi / 2 + ext_angle / 2\n",
    "    \n",
    "    for i in range(N):\n",
    "        x = cos(angle) * radius + x0\n",
    "        y = sin(angle) * radius + y0\n",
    "        vertices.append((x,y))\n",
    "        angle += ext_angle\n",
    "    return vertices\n",
    "\n",
    "\n",
    "def find_nodes(vertices, inner_vertices):\n",
    "    nodes = []\n",
    "    control_points = []\n",
    "    # hard code for 2 nodes per side\n",
    "    vp = vertices[-1]\n",
    "    ivp = inner_vertices[-1]\n",
    "    for v,iv in zip(vertices, inner_vertices):\n",
    "        nodes.append(((2 * vp[0] + v[0])/3, (2 * vp[1] + v[1])/3))\n",
    "        control_points.append(ivp)\n",
    "        nodes.append(((2 * v[0] + vp[0])/3, (2 * v[1] + vp[1])/3))\n",
    "        control_points.append(iv)\n",
    "        vp = v\n",
    "        ivp = iv\n",
    "    return nodes, control_points\n",
    "    \n",
    "\n",
    "def draw_tiles(tiles):\n",
    "    NUM_SIDES = len(tiles[0]) // 2\n",
    "    UNIT_WIDTH = 150\n",
    "    COLS = 7\n",
    "    ROWS = ceil(len(tiles) / COLS)\n",
    "\n",
    "    canvas = Canvas(width=UNIT_WIDTH*COLS, height=UNIT_WIDTH*ROWS)\n",
    "\n",
    "    x = UNIT_WIDTH/2\n",
    "    y = UNIT_WIDTH/2\n",
    "    poly_radius = 0.4 * UNIT_WIDTH # poly will be 80% of max size\n",
    "\n",
    "    for tile in tiles:\n",
    "        vertices = get_polygon_vertices(NUM_SIDES, x, y, poly_radius)\n",
    "        canvas.line_width = 2\n",
    "        canvas.stroke_style = \"black\"\n",
    "        canvas.fill_style = \"aliceblue\"\n",
    "        canvas.fill_polygon(vertices)\n",
    "        canvas.stroke_polygon(vertices)\n",
    "        inner_poly = get_polygon_vertices(NUM_SIDES, x, y, poly_radius/3)\n",
    "        nodes, control_points = find_nodes(vertices, inner_poly)\n",
    "        canvas.stroke_style = \"purple\"\n",
    "        canvas.line_width = 3\n",
    "\n",
    "        # draw bezier curves between connected nodes\n",
    "        for node, path_length in enumerate(tile):\n",
    "            p1 = node\n",
    "            p2 = p1 + path_length\n",
    "            if not p2 < len(tile):\n",
    "                # this path wraps around past node 5\n",
    "                # ignore it since it is already drawn\n",
    "                continue\n",
    "            canvas.begin_path()\n",
    "            canvas.move_to(*nodes[p1])\n",
    "            canvas.bezier_curve_to(*control_points[p1], *control_points[p2], *nodes[p2])\n",
    "            canvas.stroke()\n",
    "        \n",
    "        x += UNIT_WIDTH\n",
    "        if x > canvas.width:\n",
    "            # move to next row\n",
    "            x = UNIT_WIDTH / 2\n",
    "            y += UNIT_WIDTH\n",
    "        \n",
    "    return canvas\n",
    "\n",
    "draw_tiles([(1,5,1,5,1,5)])\n"
   ]
  },
  {
   "cell_type": "markdown",
   "metadata": {},
   "source": [
    "Now consider that this representation can be *canonicalised* by rotating it so that the resulting 6-digit sequence has the lowest possible value.\n",
    "The rotation can be effected by moving the last two digits to the beginning.\n",
    "There are only two rotations possible before arriving back at the original orientation.\n",
    "\n",
    "Let's look at three rotations of such a tile:"
   ]
  },
  {
   "cell_type": "code",
   "execution_count": 2,
   "metadata": {},
   "outputs": [
    {
     "data": {
      "application/vnd.jupyter.widget-view+json": {
       "model_id": "d69672bc76de4fb389b585344a7ed7cd",
       "version_major": 2,
       "version_minor": 0
      },
      "text/plain": [
       "Canvas(height=150, width=1050)"
      ]
     },
     "execution_count": 2,
     "metadata": {},
     "output_type": "execute_result"
    }
   ],
   "source": [
    "draw_tiles([(1,5,2,2,4,4), (2,2,4,4,1,5), (4,4,1,5,2,2)])"
   ]
  },
  {
   "cell_type": "markdown",
   "metadata": {},
   "source": [
    "Now let's generate every possible tile:"
   ]
  },
  {
   "cell_type": "code",
   "execution_count": 3,
   "metadata": {},
   "outputs": [
    {
     "data": {
      "application/vnd.jupyter.widget-view+json": {
       "model_id": "5dda8f6498194347bb154e5e43eab32b",
       "version_major": 2,
       "version_minor": 0
      },
      "text/plain": [
       "Canvas(height=450, width=1050)"
      ]
     },
     "execution_count": 3,
     "metadata": {},
     "output_type": "execute_result"
    }
   ],
   "source": [
    "numSides = 3\n",
    "numNodes = numSides * 2\n",
    "# create a tile with no paths initially - all path lengths are set to zero\n",
    "tile = numNodes * [0]\n",
    "all_tiles = []\n",
    "\n",
    "for i in range(1, numNodes):\n",
    "    # i represents the clockwise step distance from the beginning of the first path to its end\n",
    "    start, end = 0, i\n",
    "    tile[0] = i\n",
    "    tile[i] = numNodes - i\n",
    "    for j in range (1, numNodes - 2):\n",
    "        # use a list to keep track of which nodes have yet to be connected\n",
    "        nodes = list(range(numNodes))\n",
    "        nodes.remove(0)\n",
    "        nodes.remove(i)\n",
    "        # j represents the clockwise step distance from the beginning of second path to its end\n",
    "        # but ignoring already-connected nodes\n",
    "        start, end = nodes[0], nodes[j]\n",
    "        # re-compute j taking into account already-connected nodes\n",
    "        j = end - start\n",
    "        tile[start] = j\n",
    "        tile[end] = numNodes - j\n",
    "        nodes.remove(start)\n",
    "        nodes.remove(end);\n",
    "        # compute the final path\n",
    "        k = nodes[1] - nodes[0]\n",
    "        tile[nodes[0]] = k\n",
    "        tile[nodes[1]] = numNodes - k;\n",
    "        # fix the path lengths in a tuple, and add it to the list\n",
    "        all_tiles.append(tuple(tile))\n",
    "\n",
    "draw_tiles(all_tiles)\n"
   ]
  },
  {
   "cell_type": "markdown",
   "metadata": {},
   "source": [
    "Now let's define how to canonicalize a tile, then eliminate duplicates."
   ]
  },
  {
   "cell_type": "code",
   "execution_count": 4,
   "metadata": {},
   "outputs": [
    {
     "name": "stdout",
     "output_type": "stream",
     "text": [
      "There are 7 unique tiles.\n",
      "\t (1, 5, 1, 5, 1, 5)\n",
      "\t (1, 5, 2, 2, 4, 4)\n",
      "\t (1, 5, 3, 1, 5, 3)\n",
      "\t (2, 3, 4, 2, 3, 4)\n",
      "\t (2, 4, 4, 1, 5, 2)\n",
      "\t (3, 3, 3, 3, 3, 3)\n",
      "\t (5, 1, 5, 1, 5, 1)\n"
     ]
    },
    {
     "data": {
      "application/vnd.jupyter.widget-view+json": {
       "model_id": "983a668b560d473bade964de38d7a617",
       "version_major": 2,
       "version_minor": 0
      },
      "text/plain": [
       "Canvas(height=150, width=1050)"
      ]
     },
     "execution_count": 4,
     "metadata": {},
     "output_type": "execute_result"
    }
   ],
   "source": [
    "def canonicalize_tile(tile):\n",
    "    fixed = tuple(tile)\n",
    "    min = fixed\n",
    "    for _ in range(1, numSides):\n",
    "        # rotate the tile\n",
    "        tile = tile[-2:] + tile[0:numNodes - 2]\n",
    "        fixed = tuple(tile)\n",
    "        # swap min if this rotation is lower-valued\n",
    "        if fixed < min: min = fixed\n",
    "    return min\n",
    "\n",
    "\n",
    "tileset = list(set([canonicalize_tile(tile) for tile in all_tiles]))\n",
    "tileset.sort()\n",
    "\n",
    "\n",
    "print(f\"There are {len(tileset)} unique tiles.\")\n",
    "for tile in tileset:\n",
    "    # TODO: draw the tiles!\n",
    "    print(\"\\t\", tile)\n",
    "\n",
    "draw_tiles(tileset)\n"
   ]
  },
  {
   "cell_type": "markdown",
   "metadata": {},
   "source": [
    "Now what happens if the tiles are square? Or n-sided?\n",
    "\n",
    "A recursive approach might help here, starting with the list of free nodes — e.g. for a square `[0,1,2,3,4,5,6,7]`.\n",
    "Each call would remove two nodes from the list — the first and another one depending on the length of the path.\n",
    "The shorter list would be passed into the recursive call.\n",
    "\n",
    "When there are only two nodes left in the list, the recursion stops and the tile is complete."
   ]
  },
  {
   "cell_type": "code",
   "execution_count": null,
   "metadata": {},
   "outputs": [],
   "source": []
  }
 ],
 "metadata": {
  "kernelspec": {
   "display_name": "Python 3 (ipykernel)",
   "language": "python",
   "name": "python3"
  },
  "language_info": {
   "codemirror_mode": {
    "name": "ipython",
    "version": 3
   },
   "file_extension": ".py",
   "mimetype": "text/x-python",
   "name": "python",
   "nbconvert_exporter": "python",
   "pygments_lexer": "ipython3",
   "version": "3.12.3"
  },
  "title": "Tsuro Tiles",
  "authors": ["K. Joseph Chacko", "Habib Lawal", "Neil G. M. Richards"]
 },
 "nbformat": 4,
 "nbformat_minor": 4
}
